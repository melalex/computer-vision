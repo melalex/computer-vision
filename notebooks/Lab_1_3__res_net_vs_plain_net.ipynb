{
 "cells": [
  {
   "cell_type": "markdown",
   "metadata": {},
   "source": []
  },
  {
   "cell_type": "code",
   "execution_count": null,
   "metadata": {},
   "outputs": [],
   "source": [
    "import tensorflow as tf\n",
    "\n",
    "from src.data.image_net import create_image_net_data_generator\n",
    "from src.visualization.plot import plot_loss_and_val_accuracy, plot_loss_and_val_loss\n",
    "\n",
    "from lib.model.res_net import create_plain_net"
   ]
  },
  {
   "cell_type": "code",
   "execution_count": null,
   "metadata": {},
   "outputs": [],
   "source": [
    "train_ds, val_ds, input_shape, num_classes = create_image_net_data_generator(256)"
   ]
  },
  {
   "cell_type": "code",
   "execution_count": null,
   "metadata": {},
   "outputs": [],
   "source": [
    "model = create_plain_net(num_classes, input_shape)\n",
    "\n",
    "model.summary()\n",
    "\n",
    "opt = tf.keras.optimizers.legacy.Adam(learning_rate=1e-3)\n",
    "\n",
    "model.compile(\n",
    "    loss=\"categorical_crossentropy\",\n",
    "    optimizer=opt,\n",
    "    metrics=[\"accuracy\"],\n",
    ")"
   ]
  },
  {
   "cell_type": "code",
   "execution_count": null,
   "metadata": {},
   "outputs": [],
   "source": [
    "train_feedback = model.fit(\n",
    "    train_ds,\n",
    "    epochs=10,\n",
    "    validation_data=val_ds,\n",
    ")\n",
    "\n",
    "print(\"Test loss: \" + str(train_feedback.history[\"val_loss\"][-1]))\n",
    "print(\"Test accuracy: \" + str(train_feedback.history[\"val_accuracy\"][-1]))"
   ]
  },
  {
   "cell_type": "code",
   "execution_count": null,
   "metadata": {},
   "outputs": [],
   "source": [
    "plot_loss_and_val_loss(train_feedback)\n",
    "plot_loss_and_val_accuracy(train_feedback)"
   ]
  },
  {
   "cell_type": "markdown",
   "metadata": {},
   "source": [
    "# ResNET"
   ]
  },
  {
   "cell_type": "code",
   "execution_count": null,
   "metadata": {},
   "outputs": [],
   "source": []
  }
 ],
 "metadata": {
  "kernelspec": {
   "display_name": ".venv",
   "language": "python",
   "name": "python3"
  },
  "language_info": {
   "name": "python",
   "version": "3.11.10"
  }
 },
 "nbformat": 4,
 "nbformat_minor": 2
}
